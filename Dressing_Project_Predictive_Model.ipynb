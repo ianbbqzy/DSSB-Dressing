{
 "cells": [
  {
   "cell_type": "code",
   "execution_count": 7,
   "metadata": {},
   "outputs": [
    {
     "name": "stdout",
     "output_type": "stream",
     "text": [
      "Populating the interactive namespace from numpy and matplotlib\n"
     ]
    }
   ],
   "source": [
    "#predictive model using k-means\n",
    "%pylab inline\n",
    "import matplotlib.pyplot as plt\n",
    "from PIL import Image\n",
    "from scipy.cluster.vq import vq, kmeans, whiten"
   ]
  },
  {
   "cell_type": "code",
   "execution_count": 8,
   "metadata": {
    "collapsed": true
   },
   "outputs": [],
   "source": [
    "def applyCentroids(input_features, centroids):\n",
    "    \"\"\" This function replaces each pixel in input_features with the nearest centroid\n",
    "         and returns as out_features.\n",
    "        input_features is a list of sub-lists. Each sub-list contains features of one data point.\n",
    "    \"\"\" \n",
    "    pixel_index,_ = vq(input_features, centroids) # return the nearest centroid's index in centroids. \n",
    "    out_features = [uint8(centroids[idx]) for idx in pixel_index]\n",
    "    return out_features"
   ]
  },
  {
   "cell_type": "code",
   "execution_count": 9,
   "metadata": {
    "collapsed": true
   },
   "outputs": [],
   "source": [
    "# user inputs: requested colour, requested_dress_code\n",
    "# database: (image: (R,G,B,dress_code)}\n",
    "\"\"\"color(R,G,B) by default is what we predicted from the images user upload and dress code\n",
    "\"\"\"\n",
    "dressCodes={\"White Tie\":0,\"Black Tie\":1,\"Lounge Suit\":2,\"Cocktail\":3,\"Smart Casual\":4,\"None\":5}"
   ]
  },
  {
   "cell_type": "code",
   "execution_count": 86,
   "metadata": {},
   "outputs": [],
   "source": [
    "import webcolors as wc\n",
    "# change webcolors.css3_hex_to_names.items() to the {(R,G,B):\"color name\"} we have\n",
    "# output are the distances between the requested color and the 5 closest color in the database\n",
    "def closest_colour(requested_colour):\n",
    "    min_colours = {}\n",
    "    for key, name in webcolors.css3_hex_to_names.items():\n",
    "        r_c, g_c, b_c = webcolors.hex_to_rgb(key)\n",
    "        rd = ((r_c - requested_colour[0])/255) ** 2\n",
    "        gd = ((g_c - requested_colour[1])/255) ** 2\n",
    "        bd = ((b_c - requested_colour[2])/255) ** 2\n",
    "        min_colours[(rd + gd + bd)] = name\n",
    "    return sorted(min_colours.items())[:5],min_colours[min(min_colours.keys())]\n",
    "\n",
    "#if requested colour is in our database, then we choose that colour; otherwise, we output the five closest color\n",
    "def get_color_name(requested_colour):\n",
    "    try:\n",
    "        closest_name = actual_name = webcolors.rgb_to_name(requested_colour)\n",
    "        return actual_name\n",
    "    except ValueError:\n",
    "        closest_name = closest_colour(requested_colour)\n",
    "    return closest_name"
   ]
  },
  {
   "cell_type": "code",
   "execution_count": 87,
   "metadata": {},
   "outputs": [
    {
     "name": "stdout",
     "output_type": "stream",
     "text": [
      "black\n",
      "(143, 188, 143)\n"
     ]
    },
    {
     "data": {
      "text/plain": [
       "([(0.015024990388312186, 'darkseagreen'),\n",
       "  (0.017239523260284502, 'lightgreen'),\n",
       "  (0.019592464436755094, 'mediumaquamarine'),\n",
       "  (0.037862360630526726, 'palegreen'),\n",
       "  (0.06188389081122645, 'cadetblue')],\n",
       " 'darkseagreen')"
      ]
     },
     "execution_count": 87,
     "metadata": {},
     "output_type": "execute_result"
    }
   ],
   "source": [
    "print(wc.rgb_to_name((0, 0, 0)))\n",
    "print(wc.name_to_rgb('darkseagreen'))\n",
    "get_color_name((123,212,142))"
   ]
  },
  {
   "cell_type": "code",
   "execution_count": 84,
   "metadata": {},
   "outputs": [],
   "source": [
    "def closest_dressing_code(requested_dressing_code):\n",
    "    formality=dressCodes[requested_dressing_code]\n",
    "    min_dist={}\n",
    "    #dic: {image:dresscode}\n",
    "    for key,name in dic:\n",
    "        min_dist[(name-formality)**2]=key\n",
    "    return sorted(min_dist.items())[:5],min_dist[min(min_dist.keys())]"
   ]
  },
  {
   "cell_type": "code",
   "execution_count": 85,
   "metadata": {
    "collapsed": true
   },
   "outputs": [],
   "source": [
    "import webcolors as wc\n",
    "# change webcolors.css3_hex_to_names.items() to the {(R,G,B):\"color name\"} we have\n",
    "# output are the distances between the requested color and the 5 closest color in the database\n",
    "# R,G,B in (0,255), dress_code in (0,5)\n",
    "def closest_data(requested_colour,requested_dress_code):\n",
    "    min_colours = {}\n",
    "    for key, name in database.items():\n",
    "        #r_c, g_c, b_c = webcolors.hex_to_rgb(key)\n",
    "        r_c,g_c,b_c,dress_code=name[0],name[1],name[2],name[3]\n",
    "        rd = ((r_c - requested_colour[0])/255) ** 2\n",
    "        gd = ((g_c - requested_colour[1])/255) ** 2\n",
    "        bd = ((b_c - requested_colour[2])/255) ** 2\n",
    "        dd = ((dress_code-requested_dress_code)/5)**2\n",
    "        min_distance[(rd + gd + bd + dd)] = key\n",
    "    return sorted(min_distance.items())[:5],min_distance[min(min_colours.keys())]"
   ]
  },
  {
   "cell_type": "code",
   "execution_count": null,
   "metadata": {
    "collapsed": true
   },
   "outputs": [],
   "source": []
  }
 ],
 "metadata": {
  "kernelspec": {
   "display_name": "Python 3",
   "language": "python",
   "name": "python3"
  },
  "language_info": {
   "codemirror_mode": {
    "name": "ipython",
    "version": 3
   },
   "file_extension": ".py",
   "mimetype": "text/x-python",
   "name": "python",
   "nbconvert_exporter": "python",
   "pygments_lexer": "ipython3",
   "version": "3.6.1"
  }
 },
 "nbformat": 4,
 "nbformat_minor": 2
}
